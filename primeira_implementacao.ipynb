{
 "cells": [
  {
   "cell_type": "markdown",
   "metadata": {},
   "source": [
    "# Implementação Modelo Alocação Blitz"
   ]
  },
  {
   "cell_type": "markdown",
   "metadata": {},
   "source": [
    "Aqui apresentamos um modelo generico para o problema de Alocação de Blitz. Neste problema temos um conjunto de pontos válidos para alocar blitz e um conjunto de equipes. Dados essas entradas desejamos maximizar um certa função objetivo atendendo as restrições das equipes."
   ]
  },
  {
   "cell_type": "markdown",
   "metadata": {},
   "source": [
    "## Definindo paramêtros de entrada"
   ]
  },
  {
   "cell_type": "markdown",
   "metadata": {},
   "source": [
    "Fixando dimensões iniciais."
   ]
  },
  {
   "cell_type": "code",
   "execution_count": 13,
   "metadata": {},
   "outputs": [
    {
     "data": {
      "text/plain": [
       "48"
      ]
     },
     "execution_count": 13,
     "metadata": {},
     "output_type": "execute_result"
    }
   ],
   "source": [
    "n_pontos = 20\n",
    "n_equipes = 4\n",
    "tempo_total = 48\n"
   ]
  },
  {
   "cell_type": "markdown",
   "metadata": {},
   "source": [
    "Gerando $\\mu_{it}$ aleatórios para função objetivo."
   ]
  },
  {
   "cell_type": "code",
   "execution_count": 14,
   "metadata": {},
   "outputs": [
    {
     "name": "stdout",
     "output_type": "stream",
     "text": [
      "[70 494 650 610 494 102 844 964 96 406 88 611 740 986 857 169 317 864 106 813 149 548 462 990 977 943 394 287 697 842 884 308 331 187 608 151 68 646 931 188 784 320 984 87 790 281 872 472; 551 998 397 853 303 933 581 400 397 750 603 892 256 757 886 646 503 886 481 865 892 288 866 314 882 290 270 965 855 947 353 387 894 813 452 673 925 711 494 641 240 775 476 869 287 887 805 622; 432 385 223 648 235 228 278 392 832 988 147 821 682 225 849 663 994 498 785 512 921 893 360 322 190 330 934 812 80 599 441 808 300 380 475 439 167 118 56 451 616 202 382 862 192 208 77 572; 951 824 434 531 665 720 813 612 876 220 145 379 683 221 566 373 592 974 326 510 388 808 111 300 223 870 53 164 310 484 561 73 65 610 447 539 183 342 175 854 610 573 603 761 141 802 963 254; 594 612 130 276 112 684 144 979 641 647 140 987 367 390 276 913 655 629 662 792 858 120 647 313 409 589 970 974 835 362 836 974 379 328 551 781 349 478 601 957 820 591 776 195 563 756 141 430; 655 262 663 490 85 190 633 966 122 205 201 182 79 197 316 535 668 859 105 520 820 329 351 970 573 280 248 603 121 339 192 84 841 522 352 418 622 620 180 228 732 752 323 561 843 367 472 675; 591 828 657 259 951 555 701 131 311 610 179 764 563 327 61 201 495 631 502 179 598 659 266 163 578 819 853 710 155 860 138 707 247 911 868 473 268 205 401 319 132 934 98 332 185 627 145 120; 609 767 731 672 300 202 309 101 568 584 80 946 773 793 222 576 417 773 953 914 565 944 218 954 988 440 275 647 850 493 873 405 240 959 931 124 620 764 402 804 969 421 861 196 689 792 799 565; 572 972 208 584 905 989 173 460 823 324 286 347 810 938 134 518 383 473 490 725 86 632 395 312 538 849 517 410 836 336 850 637 143 575 455 615 344 741 331 288 211 991 507 517 757 946 557 747; 231 129 458 887 956 865 998 825 513 404 958 581 907 68 780 667 752 620 450 265 532 319 674 928 587 980 362 239 334 252 624 634 383 113 119 565 975 906 664 552 604 392 432 480 581 945 653 466; 245 581 194 348 974 57 75 714 508 172 940 195 196 913 967 828 287 979 440 93 815 868 948 377 376 119 62 60 893 263 192 949 172 195 720 360 330 897 313 774 941 271 92 556 539 321 108 690; 482 689 918 682 803 379 612 804 915 500 554 731 644 405 962 214 917 976 854 583 557 91 856 682 566 254 414 968 340 695 650 899 542 297 60 381 255 583 397 743 231 683 227 995 330 400 311 74; 454 488 813 102 445 297 430 383 978 443 993 886 944 263 281 646 873 901 385 347 708 472 989 690 225 149 854 787 639 511 570 346 673 954 341 334 985 333 250 970 86 985 995 918 260 345 220 633; 721 523 951 375 840 847 787 129 306 333 578 303 793 878 125 527 527 707 163 939 701 142 512 794 813 534 690 609 444 267 756 154 279 514 405 932 695 161 999 91 821 548 580 507 184 267 842 161; 258 543 142 654 455 898 713 680 827 986 329 256 776 785 927 792 294 419 106 95 638 989 679 859 796 373 907 620 585 477 162 159 519 943 885 662 73 785 85 448 516 965 912 667 287 968 804 805; 423 867 178 478 623 85 103 850 673 517 329 112 842 189 677 737 335 983 360 87 300 315 699 201 635 580 270 945 836 933 424 427 738 239 533 533 231 95 746 769 918 744 170 970 739 504 348 759; 596 508 900 742 506 629 143 402 320 583 482 793 681 259 771 995 863 647 91 189 86 611 779 190 181 782 511 290 270 657 524 188 993 471 426 932 299 897 158 654 932 434 846 445 940 982 106 971; 835 53 997 126 214 259 350 194 674 174 613 149 883 63 516 227 795 524 419 994 102 775 397 215 870 705 973 500 246 809 961 653 906 547 966 571 985 492 627 414 209 170 827 363 417 650 92 99; 113 304 723 187 822 939 291 946 729 614 495 825 1000 174 840 228 426 929 622 923 748 683 371 802 579 244 849 294 636 65 157 636 592 86 472 439 69 685 118 398 723 397 110 820 411 507 571 665; 300 846 657 476 909 100 404 885 208 813 148 224 949 855 846 119 310 251 676 376 547 982 307 249 887 353 727 320 169 213 112 783 622 544 561 805 378 707 261 551 545 880 106 909 347 783 248 179]"
     ]
    }
   ],
   "source": [
    "using Random\n",
    "using Distributions\n",
    "using LinearAlgebra\n",
    "rng = MersenneTwister(1234)\n",
    "Mu = rand(50:1000,n_pontos,tempo_total)\n",
    "print(Mu)"
   ]
  },
  {
   "cell_type": "markdown",
   "metadata": {},
   "source": [
    "Gerando uma mapa de disponibilidade para equipes em forma de bitmap o qual é possível estender para diferentes restrições. Caso 1 significa que a $k$-esima($k \\in K$) equipe está disponível no ponto $i\\in I$ no tempo $t\\in T$. Caso contrario existe uma restrição proibindo está alocação."
   ]
  },
  {
   "cell_type": "code",
   "execution_count": 15,
   "metadata": {},
   "outputs": [
    {
     "data": {
      "text/plain": [
       "4×20×48 BitArray{3}:\n",
       "[:, :, 1] =\n",
       " 1  0  1  0  1  1  1  1  1  0  0  1  1  1  0  1  0  1  1  1\n",
       " 0  1  0  1  1  0  1  1  1  0  0  0  0  1  0  1  1  0  1  1\n",
       " 0  0  1  1  1  1  0  1  1  1  0  0  0  0  0  1  1  1  1  1\n",
       " 1  1  1  0  0  0  1  0  1  1  0  0  1  0  1  0  1  1  1  0\n",
       "\n",
       "[:, :, 2] =\n",
       " 1  1  0  0  1  1  0  1  1  0  1  1  0  1  0  0  0  0  1  0\n",
       " 1  1  0  1  0  1  0  1  1  1  0  0  0  1  0  1  1  1  0  1\n",
       " 1  1  0  0  0  0  0  0  0  0  0  1  1  1  0  0  1  0  0  0\n",
       " 0  1  0  0  0  0  0  0  0  0  0  1  0  1  0  0  1  1  1  0\n",
       "\n",
       "[:, :, 3] =\n",
       " 1  1  1  0  0  1  1  1  1  0  1  0  1  0  1  1  1  0  0  1\n",
       " 1  1  1  0  1  0  1  1  1  1  1  1  1  0  1  1  1  1  0  0\n",
       " 1  0  0  0  1  1  0  1  1  0  1  0  1  1  0  0  0  1  0  1\n",
       " 0  1  1  0  1  0  0  1  1  0  0  0  1  1  1  1  1  0  0  0\n",
       "\n",
       "...\n",
       "\n",
       "[:, :, 46] =\n",
       " 0  0  1  0  1  0  1  0  1  0  1  1  0  0  1  0  1  1  0  0\n",
       " 0  1  1  0  0  1  1  1  1  0  1  1  1  1  1  1  1  0  0  1\n",
       " 0  1  1  1  0  0  1  0  1  0  1  1  1  1  1  1  0  1  1  0\n",
       " 0  0  1  0  0  0  1  0  1  0  1  1  1  0  0  1  0  1  1  0\n",
       "\n",
       "[:, :, 47] =\n",
       " 0  0  1  0  1  0  0  0  1  0  0  0  1  1  1  0  0  1  1  1\n",
       " 1  0  1  1  1  0  0  1  0  1  1  0  1  0  1  0  0  0  1  0\n",
       " 1  1  1  0  1  1  1  1  0  0  0  0  0  1  0  1  0  0  0  0\n",
       " 1  1  1  0  1  0  0  1  1  0  0  1  0  1  0  0  0  1  0  1\n",
       "\n",
       "[:, :, 48] =\n",
       " 1  1  0  1  1  1  0  1  1  1  0  0  0  0  0  0  0  1  0  1\n",
       " 1  0  1  0  1  0  0  1  1  0  1  1  1  0  1  1  0  0  0  0\n",
       " 1  0  0  0  1  0  0  0  1  1  0  1  1  0  1  1  0  0  1  0\n",
       " 1  0  0  0  1  1  0  1  1  1  0  1  0  0  1  0  1  0  0  1"
      ]
     },
     "execution_count": 15,
     "metadata": {},
     "output_type": "execute_result"
    }
   ],
   "source": [
    "MapaViabilidade = reshape(bitrand(n_equipes*n_pontos*tempo_total),n_equipes,n_pontos,tempo_total)"
   ]
  },
  {
   "cell_type": "markdown",
   "metadata": {},
   "source": [
    "## Inicializando Solver"
   ]
  },
  {
   "cell_type": "markdown",
   "metadata": {},
   "source": [
    "Usando para prototipação o solver GLPK inicialmente, provavelmente será modificado para testes."
   ]
  },
  {
   "cell_type": "code",
   "execution_count": 16,
   "metadata": {},
   "outputs": [
    {
     "data": {
      "text/latex": [
       "$$ \\begin{alignat*}{1}\\text{feasibility}\\\\\n",
       "\\text{Subject to} \\quad\\end{alignat*}\n",
       " $$"
      ],
      "text/plain": [
       "A JuMP Model\n",
       "Feasibility problem with:\n",
       "Variables: 0\n",
       "Model mode: AUTOMATIC\n",
       "CachingOptimizer state: EMPTY_OPTIMIZER\n",
       "Solver name: CPLEX"
      ]
     },
     "execution_count": 16,
     "metadata": {},
     "output_type": "execute_result"
    }
   ],
   "source": [
    "using JuMP\n",
    "using CPLEX\n",
    "using MathOptInterface\n",
    "#setting const\n",
    "const MOI = MathOptInterface\n",
    "const MOIU = MathOptInterface.Utilities\n",
    "#initiallising solver model\n",
    "model = Model(CPLEX.Optimizer)"
   ]
  },
  {
   "cell_type": "markdown",
   "metadata": {},
   "source": [
    "## Variáveis de decisão"
   ]
  },
  {
   "cell_type": "markdown",
   "metadata": {},
   "source": [
    " \n",
    " \n",
    "-  $x_{it}\\in \\{0,1\\}$ será uma variável usada para representar com 1 a presença de uma blitz na localização $i\\in I$ no período de tempo $t \\in T$, e com 0 caso contrário;"
   ]
  },
  {
   "cell_type": "code",
   "execution_count": 17,
   "metadata": {},
   "outputs": [
    {
     "data": {
      "text/plain": [
       "20×48 Array{VariableRef,2}:\n",
       " x[1,1]   x[1,2]   x[1,3]   x[1,4]   x[1,5]   …  x[1,46]   x[1,47]   x[1,48]\n",
       " x[2,1]   x[2,2]   x[2,3]   x[2,4]   x[2,5]      x[2,46]   x[2,47]   x[2,48]\n",
       " x[3,1]   x[3,2]   x[3,3]   x[3,4]   x[3,5]      x[3,46]   x[3,47]   x[3,48]\n",
       " x[4,1]   x[4,2]   x[4,3]   x[4,4]   x[4,5]      x[4,46]   x[4,47]   x[4,48]\n",
       " x[5,1]   x[5,2]   x[5,3]   x[5,4]   x[5,5]      x[5,46]   x[5,47]   x[5,48]\n",
       " x[6,1]   x[6,2]   x[6,3]   x[6,4]   x[6,5]   …  x[6,46]   x[6,47]   x[6,48]\n",
       " x[7,1]   x[7,2]   x[7,3]   x[7,4]   x[7,5]      x[7,46]   x[7,47]   x[7,48]\n",
       " x[8,1]   x[8,2]   x[8,3]   x[8,4]   x[8,5]      x[8,46]   x[8,47]   x[8,48]\n",
       " x[9,1]   x[9,2]   x[9,3]   x[9,4]   x[9,5]      x[9,46]   x[9,47]   x[9,48]\n",
       " x[10,1]  x[10,2]  x[10,3]  x[10,4]  x[10,5]     x[10,46]  x[10,47]  x[10,48]\n",
       " x[11,1]  x[11,2]  x[11,3]  x[11,4]  x[11,5]  …  x[11,46]  x[11,47]  x[11,48]\n",
       " x[12,1]  x[12,2]  x[12,3]  x[12,4]  x[12,5]     x[12,46]  x[12,47]  x[12,48]\n",
       " x[13,1]  x[13,2]  x[13,3]  x[13,4]  x[13,5]     x[13,46]  x[13,47]  x[13,48]\n",
       " x[14,1]  x[14,2]  x[14,3]  x[14,4]  x[14,5]     x[14,46]  x[14,47]  x[14,48]\n",
       " x[15,1]  x[15,2]  x[15,3]  x[15,4]  x[15,5]     x[15,46]  x[15,47]  x[15,48]\n",
       " x[16,1]  x[16,2]  x[16,3]  x[16,4]  x[16,5]  …  x[16,46]  x[16,47]  x[16,48]\n",
       " x[17,1]  x[17,2]  x[17,3]  x[17,4]  x[17,5]     x[17,46]  x[17,47]  x[17,48]\n",
       " x[18,1]  x[18,2]  x[18,3]  x[18,4]  x[18,5]     x[18,46]  x[18,47]  x[18,48]\n",
       " x[19,1]  x[19,2]  x[19,3]  x[19,4]  x[19,5]     x[19,46]  x[19,47]  x[19,48]\n",
       " x[20,1]  x[20,2]  x[20,3]  x[20,4]  x[20,5]     x[20,46]  x[20,47]  x[20,48]"
      ]
     },
     "execution_count": 17,
     "metadata": {},
     "output_type": "execute_result"
    }
   ],
   "source": [
    "@variable(model,x[i=1:n_pontos,t = 1:tempo_total],Bin)"
   ]
  },
  {
   "cell_type": "markdown",
   "metadata": {},
   "source": [
    "-      $e_{ijt}\\in \\{0,1\\}$ será uma variável usada para representar com 1 a presença de uma equipe  $k \\in K$ na localização $i\\in I$ no período de tempo $t \\in T$, e com 0 caso contrário;"
   ]
  },
  {
   "cell_type": "code",
   "execution_count": 18,
   "metadata": {},
   "outputs": [
    {
     "data": {
      "text/plain": [
       "4×20×48 Array{VariableRef,3}:\n",
       "[:, :, 1] =\n",
       " e[1,1,1]  e[1,2,1]  e[1,3,1]  e[1,4,1]  …  e[1,18,1]  e[1,19,1]  e[1,20,1]\n",
       " e[2,1,1]  e[2,2,1]  e[2,3,1]  e[2,4,1]     e[2,18,1]  e[2,19,1]  e[2,20,1]\n",
       " e[3,1,1]  e[3,2,1]  e[3,3,1]  e[3,4,1]     e[3,18,1]  e[3,19,1]  e[3,20,1]\n",
       " e[4,1,1]  e[4,2,1]  e[4,3,1]  e[4,4,1]     e[4,18,1]  e[4,19,1]  e[4,20,1]\n",
       "\n",
       "[:, :, 2] =\n",
       " e[1,1,2]  e[1,2,2]  e[1,3,2]  e[1,4,2]  …  e[1,18,2]  e[1,19,2]  e[1,20,2]\n",
       " e[2,1,2]  e[2,2,2]  e[2,3,2]  e[2,4,2]     e[2,18,2]  e[2,19,2]  e[2,20,2]\n",
       " e[3,1,2]  e[3,2,2]  e[3,3,2]  e[3,4,2]     e[3,18,2]  e[3,19,2]  e[3,20,2]\n",
       " e[4,1,2]  e[4,2,2]  e[4,3,2]  e[4,4,2]     e[4,18,2]  e[4,19,2]  e[4,20,2]\n",
       "\n",
       "[:, :, 3] =\n",
       " e[1,1,3]  e[1,2,3]  e[1,3,3]  e[1,4,3]  …  e[1,18,3]  e[1,19,3]  e[1,20,3]\n",
       " e[2,1,3]  e[2,2,3]  e[2,3,3]  e[2,4,3]     e[2,18,3]  e[2,19,3]  e[2,20,3]\n",
       " e[3,1,3]  e[3,2,3]  e[3,3,3]  e[3,4,3]     e[3,18,3]  e[3,19,3]  e[3,20,3]\n",
       " e[4,1,3]  e[4,2,3]  e[4,3,3]  e[4,4,3]     e[4,18,3]  e[4,19,3]  e[4,20,3]\n",
       "\n",
       "...\n",
       "\n",
       "[:, :, 46] =\n",
       " e[1,1,46]  e[1,2,46]  e[1,3,46]  …  e[1,18,46]  e[1,19,46]  e[1,20,46]\n",
       " e[2,1,46]  e[2,2,46]  e[2,3,46]     e[2,18,46]  e[2,19,46]  e[2,20,46]\n",
       " e[3,1,46]  e[3,2,46]  e[3,3,46]     e[3,18,46]  e[3,19,46]  e[3,20,46]\n",
       " e[4,1,46]  e[4,2,46]  e[4,3,46]     e[4,18,46]  e[4,19,46]  e[4,20,46]\n",
       "\n",
       "[:, :, 47] =\n",
       " e[1,1,47]  e[1,2,47]  e[1,3,47]  …  e[1,18,47]  e[1,19,47]  e[1,20,47]\n",
       " e[2,1,47]  e[2,2,47]  e[2,3,47]     e[2,18,47]  e[2,19,47]  e[2,20,47]\n",
       " e[3,1,47]  e[3,2,47]  e[3,3,47]     e[3,18,47]  e[3,19,47]  e[3,20,47]\n",
       " e[4,1,47]  e[4,2,47]  e[4,3,47]     e[4,18,47]  e[4,19,47]  e[4,20,47]\n",
       "\n",
       "[:, :, 48] =\n",
       " e[1,1,48]  e[1,2,48]  e[1,3,48]  …  e[1,18,48]  e[1,19,48]  e[1,20,48]\n",
       " e[2,1,48]  e[2,2,48]  e[2,3,48]     e[2,18,48]  e[2,19,48]  e[2,20,48]\n",
       " e[3,1,48]  e[3,2,48]  e[3,3,48]     e[3,18,48]  e[3,19,48]  e[3,20,48]\n",
       " e[4,1,48]  e[4,2,48]  e[4,3,48]     e[4,18,48]  e[4,19,48]  e[4,20,48]"
      ]
     },
     "execution_count": 18,
     "metadata": {},
     "output_type": "execute_result"
    }
   ],
   "source": [
    "@variable(model,e[k=1:n_equipes,i=1:n_pontos,t = 1:tempo_total],Bin)"
   ]
  },
  {
   "cell_type": "markdown",
   "metadata": {},
   "source": [
    "## Restrições Iniciais"
   ]
  },
  {
   "cell_type": "code",
   "execution_count": 19,
   "metadata": {
    "scrolled": true
   },
   "outputs": [
    {
     "name": "stdout",
     "output_type": "stream",
     "text": [
      "\n",
      "Clique cuts applied:  98\n",
      "Zero-half cuts applied:  93\n",
      "Lift and project cuts applied:  11\n",
      "Gomory fractional cuts applied:  28\n",
      "\n",
      "Root node processing (before b&c):\n",
      "  Real time             =    0.76 sec. (571.05 ticks)\n",
      "Parallel b&c, 4 threads:\n",
      "  Real time             =    0.00 sec. (0.00 ticks)\n",
      "  Sync time (average)   =    0.00 sec.\n",
      "  Wait time (average)   =    0.00 sec.\n",
      "                          ------------\n",
      "Total (root+branch&cut) =    0.76 sec. (571.05 ticks)\n",
      "Warning:  Non-integral bounds for integer variables rounded.\n",
      "1 of 1 MIP starts provided solutions.\n",
      "MIP start 'm1' defined initial solution with objective 114208.0000.\n",
      "Warning:  Non-integral bounds for integer variables rounded.\n",
      "Tried aggregator 2 times.\n",
      "MIP Presolve eliminated 2762 rows and 1957 columns.\n",
      "MIP Presolve modified 1159 coefficients.\n",
      "Aggregator did 230 substitutions.\n",
      "Reduced MIP has 1841 rows, 2613 columns, and 19913 nonzeros.\n",
      "Reduced MIP has 2613 binaries, 0 generals, 0 SOSs, and 0 indicators.\n",
      "Presolve time = 0.03 sec. (30.93 ticks)\n",
      "Probing time = 0.02 sec. (1.40 ticks)\n",
      "Tried aggregator 1 time.\n",
      "MIP Presolve eliminated 16 rows and 47 columns.\n",
      "Reduced MIP has 1825 rows, 2566 columns, and 19817 nonzeros.\n",
      "Reduced MIP has 2566 binaries, 0 generals, 0 SOSs, and 0 indicators.\n",
      "Presolve time = 0.01 sec. (16.34 ticks)\n",
      "Probing time = 0.00 sec. (1.35 ticks)\n",
      "Clique table members: 1825.\n",
      "MIP emphasis: balance optimality and feasibility.\n",
      "MIP search method: dynamic search.\n",
      "Parallel mode: deterministic, using up to 4 threads.\n",
      "Root relaxation solution time = 0.08 sec. (66.46 ticks)\n",
      "\n",
      "        Nodes                                         Cuts/\n",
      "   Node  Left     Objective  IInf  Best Integer    Best Bound    ItCnt     Gap\n",
      "\n",
      "*     0+    0                       114208.0000   467558.0000           309.39%\n",
      "      0     0   119487.8339   738   114208.0000   119487.8339     1612    4.62%\n",
      "      0     0   114733.7644   264   114208.0000     Cuts: 282     1976    0.46%\n",
      "      0     0   114243.1571    63   114208.0000      Cuts: 93     2088    0.03%\n"
     ]
    }
   ],
   "source": [
    "@constraint(model,first_constraint[i=1:n_pontos,t=1:tempo_total],x[i,t] == sum(e[k,i,t] for k in 1:n_equipes))\n",
    "@constraint(model,second_constraint[k=1:n_equipes,t=1:tempo_total],sum(e[k,i,t] for i in 1:n_pontos)<=1)\n",
    "@constraint(model,third_constraint[k=1:n_equipes,i=1:n_pontos,t=2:tempo_total-1],e[k,i,t-1]+sum(e[k,j,t] for j=1:n_pontos if j !=i)<=1)\n",
    "@constraint(model,fourth_constraint,sum(e[k,i,t]*(1-MapaViabilidade[k,i,t]) for t in 1:tempo_total,i in 1:n_pontos,k in 1:n_equipes)<=0)\n",
    "obj = dot(Mu,x)\n",
    "@objective(model,Max,obj)\n",
    "optimize!(model)\n"
   ]
  },
  {
   "cell_type": "code",
   "execution_count": 20,
   "metadata": {},
   "outputs": [
    {
     "data": {
      "text/plain": [
       "OPTIMAL::TerminationStatusCode = 1"
      ]
     },
     "execution_count": 20,
     "metadata": {},
     "output_type": "execute_result"
    }
   ],
   "source": [
    "termination_status(model)"
   ]
  },
  {
   "cell_type": "code",
   "execution_count": 21,
   "metadata": {},
   "outputs": [
    {
     "data": {
      "text/plain": [
       "20×48 Array{Float64,2}:\n",
       " 0.0  0.0  0.0  0.0  0.0  0.0  0.0  0.0  …  0.0  0.0  0.0  0.0  0.0  0.0  0.0\n",
       " 0.0  0.0  0.0  0.0  0.0  0.0  0.0  0.0     0.0  0.0  0.0  0.0  1.0  1.0  0.0\n",
       " 0.0  0.0  0.0  0.0  0.0  0.0  0.0  0.0     0.0  0.0  0.0  0.0  0.0  0.0  0.0\n",
       " 1.0  0.0  0.0  0.0  0.0  0.0  0.0  0.0     0.0  0.0  0.0  0.0  0.0  0.0  0.0\n",
       " 0.0  0.0  0.0  0.0  0.0  0.0  0.0  0.0     1.0  0.0  0.0  0.0  0.0  0.0  0.0\n",
       " 0.0  0.0  0.0  0.0  0.0  0.0  0.0  0.0  …  0.0  0.0  0.0  0.0  0.0  0.0  0.0\n",
       " 0.0  0.0  0.0  0.0  0.0  0.0  0.0  0.0     0.0  0.0  0.0  0.0  0.0  0.0  0.0\n",
       " 1.0  1.0  1.0  0.0  0.0  0.0  0.0  0.0     0.0  0.0  0.0  0.0  0.0  0.0  0.0\n",
       " 0.0  0.0  0.0  0.0  1.0  1.0  0.0  0.0     0.0  0.0  0.0  1.0  1.0  1.0  1.0\n",
       " 0.0  0.0  0.0  0.0  1.0  1.0  0.0  0.0     0.0  0.0  0.0  0.0  0.0  0.0  0.0\n",
       " 0.0  0.0  0.0  0.0  0.0  0.0  0.0  0.0  …  0.0  0.0  0.0  0.0  0.0  0.0  0.0\n",
       " 0.0  0.0  1.0  1.0  1.0  0.0  1.0  1.0     0.0  0.0  1.0  0.0  0.0  0.0  0.0\n",
       " 0.0  0.0  0.0  0.0  0.0  0.0  0.0  0.0     1.0  1.0  0.0  0.0  0.0  0.0  0.0\n",
       " 0.0  0.0  1.0  1.0  1.0  1.0  1.0  0.0     0.0  0.0  0.0  0.0  0.0  1.0  0.0\n",
       " 0.0  0.0  0.0  0.0  0.0  0.0  0.0  1.0     1.0  1.0  1.0  1.0  1.0  1.0  1.0\n",
       " 0.0  0.0  0.0  0.0  0.0  0.0  0.0  0.0  …  1.0  0.0  1.0  1.0  0.0  0.0  1.0\n",
       " 1.0  1.0  1.0  0.0  0.0  0.0  0.0  0.0     0.0  0.0  0.0  0.0  0.0  0.0  1.0\n",
       " 1.0  0.0  0.0  0.0  0.0  0.0  0.0  0.0     0.0  0.0  0.0  0.0  0.0  0.0  0.0\n",
       " 0.0  0.0  0.0  0.0  0.0  0.0  0.0  1.0     0.0  0.0  0.0  0.0  0.0  0.0  0.0\n",
       " 0.0  0.0  0.0  0.0  0.0  0.0  0.0  0.0     0.0  0.0  0.0  0.0  0.0  0.0  0.0"
      ]
     },
     "execution_count": 21,
     "metadata": {},
     "output_type": "execute_result"
    }
   ],
   "source": [
    "optimal_solution = value.(x)"
   ]
  },
  {
   "cell_type": "code",
   "execution_count": 22,
   "metadata": {},
   "outputs": [
    {
     "data": {
      "text/plain": [
       "4×20×48 Array{Float64,3}:\n",
       "[:, :, 1] =\n",
       " 0.0  0.0  0.0  0.0  0.0  0.0  0.0  1.0  …  0.0  0.0  0.0  0.0  0.0  0.0  0.0\n",
       " 0.0  0.0  0.0  1.0  0.0  0.0  0.0  0.0     0.0  0.0  0.0  0.0  0.0  0.0  0.0\n",
       " 0.0  0.0  0.0  0.0  0.0  0.0  0.0  0.0     0.0  0.0  0.0  0.0  1.0  0.0  0.0\n",
       " 0.0  0.0  0.0  0.0  0.0  0.0  0.0  0.0     0.0  0.0  0.0  1.0  0.0  0.0  0.0\n",
       "\n",
       "[:, :, 2] =\n",
       " 0.0  0.0  0.0  0.0  0.0  0.0  0.0  1.0  …  0.0  0.0  0.0  0.0  0.0  0.0  0.0\n",
       " 0.0  0.0  0.0  0.0  0.0  0.0  0.0  0.0     0.0  0.0  0.0  0.0  0.0  0.0  0.0\n",
       " 0.0  0.0  0.0  0.0  0.0  0.0  0.0  0.0     0.0  0.0  0.0  0.0  0.0  0.0  0.0\n",
       " 0.0  0.0  0.0  0.0  0.0  0.0  0.0  0.0     0.0  0.0  0.0  1.0  0.0  0.0  0.0\n",
       "\n",
       "[:, :, 3] =\n",
       " 0.0  0.0  0.0  0.0  0.0  0.0  0.0  1.0  …  0.0  0.0  0.0  0.0  0.0  0.0  0.0\n",
       " 0.0  0.0  0.0  0.0  0.0  0.0  0.0  0.0     0.0  0.0  0.0  0.0  0.0  0.0  0.0\n",
       " 0.0  0.0  0.0  0.0  0.0  0.0  0.0  0.0     1.0  0.0  0.0  0.0  0.0  0.0  0.0\n",
       " 0.0  0.0  0.0  0.0  0.0  0.0  0.0  0.0     0.0  0.0  0.0  1.0  0.0  0.0  0.0\n",
       "\n",
       "...\n",
       "\n",
       "[:, :, 46] =\n",
       " 0.0  0.0  0.0  0.0  0.0  0.0  0.0  0.0  …  0.0  0.0  0.0  0.0  0.0  0.0  0.0\n",
       " 0.0  0.0  0.0  0.0  0.0  0.0  0.0  0.0     0.0  1.0  0.0  0.0  0.0  0.0  0.0\n",
       " 0.0  1.0  0.0  0.0  0.0  0.0  0.0  0.0     0.0  0.0  0.0  0.0  0.0  0.0  0.0\n",
       " 0.0  0.0  0.0  0.0  0.0  0.0  0.0  0.0     0.0  0.0  0.0  0.0  0.0  0.0  0.0\n",
       "\n",
       "[:, :, 47] =\n",
       " 0.0  0.0  0.0  0.0  0.0  0.0  0.0  0.0  …  1.0  0.0  0.0  0.0  0.0  0.0  0.0\n",
       " 0.0  0.0  0.0  0.0  0.0  0.0  0.0  0.0     0.0  1.0  0.0  0.0  0.0  0.0  0.0\n",
       " 0.0  1.0  0.0  0.0  0.0  0.0  0.0  0.0     0.0  0.0  0.0  0.0  0.0  0.0  0.0\n",
       " 0.0  0.0  0.0  0.0  0.0  0.0  0.0  0.0     0.0  0.0  0.0  0.0  0.0  0.0  0.0\n",
       "\n",
       "[:, :, 48] =\n",
       " 0.0  0.0  0.0  0.0  0.0  0.0  0.0  0.0  …  0.0  0.0  0.0  0.0  0.0  0.0  0.0\n",
       " 0.0  0.0  0.0  0.0  0.0  0.0  0.0  0.0     0.0  0.0  1.0  0.0  0.0  0.0  0.0\n",
       " 0.0  0.0  0.0  0.0  0.0  0.0  0.0  0.0     0.0  1.0  0.0  0.0  0.0  0.0  0.0\n",
       " 0.0  0.0  0.0  0.0  0.0  0.0  0.0  0.0     0.0  0.0  0.0  1.0  0.0  0.0  0.0"
      ]
     },
     "execution_count": 22,
     "metadata": {},
     "output_type": "execute_result"
    }
   ],
   "source": [
    "optimal_team_schedule = value.(e)"
   ]
  },
  {
   "cell_type": "code",
   "execution_count": null,
   "metadata": {},
   "outputs": [],
   "source": []
  }
 ],
 "metadata": {
  "kernelspec": {
   "display_name": "Julia 1.4.2",
   "language": "julia",
   "name": "julia-1.4"
  },
  "language_info": {
   "file_extension": ".jl",
   "mimetype": "application/julia",
   "name": "julia",
   "version": "1.4.2"
  }
 },
 "nbformat": 4,
 "nbformat_minor": 4
}
